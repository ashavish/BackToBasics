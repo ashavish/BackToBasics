{
 "cells": [
  {
   "cell_type": "markdown",
   "metadata": {},
   "source": [
    "# Hypothesis Testing using Python"
   ]
  },
  {
   "cell_type": "markdown",
   "metadata": {},
   "source": [
    "### Z-test for population means when Standard Deviation is known"
   ]
  },
  {
   "cell_type": "code",
   "execution_count": 2,
   "metadata": {},
   "outputs": [
    {
     "name": "stdout",
     "output_type": "stream",
     "text": [
      "Sample [34 22 15 16 15 28 23 24 19 28 30 25 24 19 35 33 24 33 35 28 33 36 25 29\n",
      " 20 27 26 35 26 15 35 33 36 19 22 31 35 26 32 15 28 33 16 26 29 30 30 32\n",
      " 20 26]\n",
      "Z-test results (-1.8554481938335015, 0.03176612534513498)\n",
      "Critical Value -1.6448536269514729\n",
      "Significant\n"
     ]
    }
   ],
   "source": [
    "import math\n",
    "from scipy import stats\n",
    "import numpy as np\n",
    "\n",
    "\n",
    "# Claim is about the population mean, given a sample and the population standard deviation\n",
    "# Function returns the Z-critical \n",
    "def z_test(pop_mean,pop_std,sample):\n",
    "    z_score = (sample.mean()-pop_mean)/(pop_std/math.sqrt(len(sample)))\n",
    "    return z_score,stats.norm.cdf(z_score)\n",
    "\n",
    "def check_significance(value,critical,type=\"two\"):\n",
    "    # Type can be right/left/two\n",
    "    if type == \"two\":\n",
    "        if np.abs(value) > np.abs(critical):\n",
    "            print(\"Significant\")\n",
    "        else:\n",
    "            print(\"Insignificant\")\n",
    "    elif type == \"right\":\n",
    "        if value > critical:\n",
    "            print(\"Significant\")\n",
    "        else:\n",
    "            print(\"Insignificant\")\n",
    "    elif type == \"left\":\n",
    "        if value < critical:\n",
    "            print(\"Significant\")\n",
    "        else:\n",
    "            print(\"Insignificant\")\n",
    "            \n",
    "pop_mean = 30\n",
    "pop_std = 12.5\n",
    "sample_size = 50\n",
    "np.random.seed(seed=1000)\n",
    "sample = np.random.randint(15,37,sample_size)\n",
    "print(\"Sample\",sample)\n",
    "z_test_results = z_test(30,12.5,sample)\n",
    "print(\"Z-test results\",z_test_results)\n",
    "p = 0.05\n",
    "critical_value = stats.norm.ppf(p)\n",
    "print(\"Critical Value\",critical_value)\n",
    "check_significance(z_test_results[0],critical_value,type=\"two\")"
   ]
  },
  {
   "cell_type": "markdown",
   "metadata": {},
   "source": [
    "### T-test for Population means when Standard Deviation is unknown"
   ]
  },
  {
   "cell_type": "code",
   "execution_count": 4,
   "metadata": {},
   "outputs": [
    {
     "name": "stdout",
     "output_type": "stream",
     "text": [
      "t_test results Ttest_1sampResult(statistic=-3.606854232868118, pvalue=0.0007254052265263364)\n",
      "Significant\n"
     ]
    }
   ],
   "source": [
    "t_test_results = stats.ttest_1samp(sample,30)\n",
    "print(\"t_test results\",t_test_results)\n",
    "critical_value = stats.t.ppf(p,29)\n",
    "check_significance(t_test_results[0],critical_value,type=\"two\")"
   ]
  },
  {
   "cell_type": "markdown",
   "metadata": {},
   "source": [
    "### Paired Sample T-Test"
   ]
  },
  {
   "cell_type": "code",
   "execution_count": 36,
   "metadata": {},
   "outputs": [
    {
     "name": "stdout",
     "output_type": "stream",
     "text": [
      "[19 79 39 36 17  5 48 68  2 26 26 22 75 48  7 60 69  1  8 18 75 45 39 17\n",
      " 50 72 39 80 77 30 81 36 87 54 38 97 52 29 75 84 97 31 38 60 19 60 78 43\n",
      " 76  9]\n",
      "[63 17 19 20 23 82 46 84  1 54 75 69 75 27 56 32 79 70 29 52 35 82 32 55\n",
      " 45 77 81 81 11  7 61 77 25 78 62 11 50 75  7 50 12 51 77 24 20 70 18 61\n",
      " 52 91]\n",
      "t_test results Ttest_relResult(statistic=-0.37752356014100424, pvalue=0.7074148857038325)\n"
     ]
    }
   ],
   "source": [
    "sample1 = np.random.randint(1,100,sample_size)\n",
    "sample2 = np.random.randint(1,100,sample_size)\n",
    "print(sample1)\n",
    "print(sample2)\n",
    "t_test_result = stats.ttest_rel(sample1,sample2)\n",
    "print(\"t_test results\",t_test_result)"
   ]
  },
  {
   "cell_type": "markdown",
   "metadata": {},
   "source": [
    "### Two sample Z test  when Population Standard Deviations are known"
   ]
  },
  {
   "cell_type": "code",
   "execution_count": 54,
   "metadata": {},
   "outputs": [
    {
     "name": "stdout",
     "output_type": "stream",
     "text": [
      "(7.576460508178154, 0.9999999999999822)\n"
     ]
    }
   ],
   "source": [
    "def two_sample_z_test(sample1,sample2,pop1_mean,pop2_mean):\n",
    "    sample1_mean = sample1.mean()\n",
    "    sample2_mean = sample2.mean()\n",
    "    sample1_sd = sample1.std()\n",
    "    sample2_sd = sample2.std()\n",
    "    n1 = len(sample1)\n",
    "    n2 = len(sample2)\n",
    "    z_score = ((sample1_mean-sample2_mean) - (pop1_mean - pop2_mean))/ math.sqrt(sample1_sd**2/n1 + sample2_sd**2/n2 )\n",
    "    return z_score,stats.norm.cdf(z_score)\n",
    "\n",
    "sample1 = np.random.randint(15,37,sample_size)\n",
    "sample2 = np.random.randint(15,37,sample_size)\n",
    "pop1_mean = 30\n",
    "pop2_mean = 40\n",
    "z_test_result = two_sample_z_test(sample1,sample2,pop1_mean,pop2_mean)\n",
    "print(z_test_result)"
   ]
  },
  {
   "cell_type": "markdown",
   "metadata": {},
   "source": [
    "### Two sample t-test when Population Standard Deviations are unknown and believed to be equal"
   ]
  },
  {
   "cell_type": "code",
   "execution_count": 91,
   "metadata": {},
   "outputs": [
    {
     "name": "stdout",
     "output_type": "stream",
     "text": [
      "[17 15 19 25 24 26 18 35 33 16 25 16 16 28 15 25 36 24 29 26 35 35 31 17\n",
      " 15 34 35 16 26 35 33 28 19 29 31 35 35 25 33 34 24 26 19 31 20 32 22 20\n",
      " 16 28]\n",
      "[25 17 19 34 21 30 29 36 27 22 28 18 34 24 36 31 36 36 30 36 17 16 30 18\n",
      " 22 28 26 30 33 36 33 24 26 17 27 35 35 22 18 29 28 25 29 15 32 22 21 20\n",
      " 33 36]\n",
      "t_test results Ttest_indResult(statistic=-0.9556693739572393, pvalue=0.341590813564823)\n",
      "T-test result from custom function -0.9653718498535235\n",
      "Degree of freedom is 98\n",
      "Critical values are -1.9844674544266925 and 1.984467454426692\n"
     ]
    }
   ],
   "source": [
    "sample1 = np.random.randint(15,37,sample_size)\n",
    "sample2 = np.random.randint(15,37,sample_size)\n",
    "print(sample1)\n",
    "print(sample2)\n",
    "t_test_result = stats.ttest_ind(sample1,sample2,equal_var=True)\n",
    "# This returns the two-tailed p-value\n",
    "\n",
    "print(\"t_test results\",t_test_result)\n",
    "\n",
    "# Function to take the hypothesized population mean difference as an input\n",
    "def t_test_equal_var(sample1,sample2,hyp_diff):\n",
    "    sample1_mean = sample1.mean()\n",
    "    sample2_mean = sample2.mean()\n",
    "    sample1_sd = sample1.std()\n",
    "    sample2_sd = sample2.std()\n",
    "    n1 = len(sample1)\n",
    "    n2 = len(sample2)\n",
    "    sp_square = ((n1-1)*sample1_sd**2 + (n2-1)*sample2_sd**2)/(n1+n2-2)\n",
    "    t_score = (sample1_mean - sample2_mean - hyp_diff)/math.sqrt(sp_square*(1/n1+1/n2))\n",
    "    df = n1+n2-2\n",
    "    return t_score,df\n",
    "\n",
    "hyp_diff = 0\n",
    "custom_t,df = t_test_equal_var(sample1,sample2,hyp_diff)\n",
    "print(\"T-test result from custom function\",custom_t)\n",
    "print(\"Degree of freedom is\",df)\n",
    "critical_value_left,critical_value_right = stats.t.ppf(0.05/2, df),stats.t.ppf((1-0.05/2), df)\n",
    "print(\"Critical values are\",critical_value_left,\"and\",critical_value_right)"
   ]
  },
  {
   "cell_type": "markdown",
   "metadata": {},
   "source": [
    "### Two sample t-test when Population Standard Deviations are unknown and believed to be unequal"
   ]
  },
  {
   "cell_type": "code",
   "execution_count": 92,
   "metadata": {},
   "outputs": [
    {
     "name": "stdout",
     "output_type": "stream",
     "text": [
      "[32 24 36 19 19 15 20 29 24 23 24 16 15 33 19 28 32 18 32 18 36 33 34 15\n",
      " 20 22 25 31 23 25 30 25 27 19 34 20 26 23 18 21 31 27 30 22 33 16 27 19\n",
      " 29 19]\n",
      "[21 21 24 30 25 20 30 36 34 35 17 33 32 28 26 30 25 35 21 19 19 25 31 22\n",
      " 35 33 34 15 33 28 27 15 21 28 20 16 29 32 15 22 18 33 34 26 20 35 36 32\n",
      " 32 33]\n",
      "t_test results Ttest_indResult(statistic=-1.6469184946692506, pvalue=0.10279104134147155)\n",
      "T-test result from custom function -1.6636389080602398\n",
      "Degree of freedom is 97\n",
      "Critical values are -1.9847231859278835 and 1.984723185927883\n"
     ]
    }
   ],
   "source": [
    "sample1 = np.random.randint(15,37,sample_size)\n",
    "sample2 = np.random.randint(15,37,sample_size)\n",
    "print(sample1)\n",
    "print(sample2)\n",
    "t_test_result = stats.ttest_ind(sample1,sample2,equal_var=False)\n",
    "print(\"t_test results\",t_test_result)\n",
    "\n",
    "def t_test_unequal_var(sample1,sample2,hyp_diff):\n",
    "    sample1_mean = sample1.mean()\n",
    "    sample2_mean = sample2.mean()\n",
    "    sample1_sd = sample1.std()\n",
    "    sample2_sd = sample2.std()\n",
    "    n1 = len(sample1)\n",
    "    n2 = len(sample2)\n",
    "    su = (sample1_sd**2/n1 + sample2_sd**2/n2)\n",
    "    t_score = (sample1_mean - sample2_mean - hyp_diff)/math.sqrt(sample1_sd**2/n1+sample2_sd**2/n2)\n",
    "    df = int(su**2/((sample1_sd**2/n1)**2/(n1-1)+ (sample2_sd**2/n2)**2/(n2-1)))\n",
    "    return t_score,df\n",
    "\n",
    "hyp_diff = 0\n",
    "custom_t,df = t_test_unequal_var(sample1,sample2,hyp_diff)\n",
    "print(\"T-test result from custom function\",custom_t)\n",
    "print(\"Degree of freedom is\",df)\n",
    "# alpha = 0.05/2 for a two-tailed test\n",
    "critical_value_left,critical_value_right = stats.t.ppf(0.05/2, df),stats.t.ppf((1-0.05/2), df)\n",
    "print(\"Critical values are\",critical_value_left,\"and\",critical_value_right)"
   ]
  },
  {
   "cell_type": "markdown",
   "metadata": {},
   "source": [
    "### Two sample Z-test for Proportions"
   ]
  },
  {
   "cell_type": "code",
   "execution_count": 50,
   "metadata": {},
   "outputs": [
    {
     "name": "stdout",
     "output_type": "stream",
     "text": [
      "npq 20.064\n",
      "Z-test results (-1.556997888323046, 0.05973549338585037)\n"
     ]
    }
   ],
   "source": [
    "import math\n",
    "def z_test_prop(sample_prop,pop_prop,n):\n",
    "    z_score = (sample_prop - pop_prop) / (math.sqrt(pop_prop*(1-pop_prop)/n))\n",
    "    return z_score,stats.norm.cdf(z_score)\n",
    "\n",
    "pop_prop = 0.12\n",
    "n = 250\n",
    "sample_prop = p = 22/250.0\n",
    "q = 1-p\n",
    "print(\"npq\",n*p*q) #n*p*q >= 10\n",
    "z_test_result = z_test_prop(sample_prop,pop_prop,n)\n",
    "print(\"Z-test results\",z_test_result)"
   ]
  },
  {
   "cell_type": "markdown",
   "metadata": {},
   "source": [
    "### Hypothesis test for equality of variances"
   ]
  },
  {
   "cell_type": "code",
   "execution_count": 84,
   "metadata": {},
   "outputs": [
    {
     "name": "stdout",
     "output_type": "stream",
     "text": [
      "[23 22 17 15 35 31 36 36 35 28 34 32 22 25 22 23 20 23 22 18 20 22 32 30\n",
      " 25 15 26 29 29 23 22 23 20 25 17 35 15 32 32 31 15 25 32 32 16 24 21 29\n",
      " 21 35]\n",
      "[34 34 27 24 26 33 23 21 35 22 27 30 17 17 33 18 16 36 24 35 32 25 31 15\n",
      " 30 35 30 18 33 15 32 18 19 35 36 22 23 26 26 33 32 35 20 20 29 20 31 35\n",
      " 20 26]\n",
      "F-statistic 1.0871788725078906\n",
      "F-critical 1.5994954668354426\n"
     ]
    }
   ],
   "source": [
    "sample1 = np.random.randint(15,37,sample_size)\n",
    "sample2 = np.random.randint(15,37,sample_size)\n",
    "print(sample1)\n",
    "print(sample2)\n",
    "\n",
    "def f_test_variances(sample1,sample2):\n",
    "    sample1_std = sample1.std()\n",
    "    sample2_std = sample2.std()\n",
    "    n1 = len(sample1)\n",
    "    n2 = len(sample2)\n",
    "    if sample1_std > sample2_std:\n",
    "        f_score = sample1_std**2/sample2_std**2\n",
    "        dfn = n1\n",
    "        dfd = n2\n",
    "    else:\n",
    "        f_score = sample2_std**2/sample1_std**2\n",
    "        dfn = n2\n",
    "        dfd = n1\n",
    "    return f_score,dfn,dfd\n",
    "\n",
    "f_score,dfn,dfd = f_test_variances(sample1,sample2)\n",
    "print(\"F-statistic\",f_score)\n",
    "f_critical = stats.f.ppf(q=1-0.05, dfn=dfn, dfd=dfd)\n",
    "print(\"F-critical\",f_critical)"
   ]
  },
  {
   "cell_type": "markdown",
   "metadata": {},
   "source": [
    "# Non-Parameteric Tests"
   ]
  },
  {
   "cell_type": "markdown",
   "metadata": {},
   "source": [
    "### Chi-square Goodness of fit test and Chi-square test of independence"
   ]
  },
  {
   "cell_type": "code",
   "execution_count": 40,
   "metadata": {},
   "outputs": [
    {
     "name": "stdout",
     "output_type": "stream",
     "text": [
      "Power_divergenceResult(statistic=8.16281512605042, pvalue=0.042763964838051303)\n"
     ]
    }
   ],
   "source": [
    "f_obs = [190,185,90,35]\n",
    "f_exp = [200,170,70,40]\n",
    "chi_sq_result = stats.chisquare(f_obs,f_exp)\n",
    "print(chi_sq_result)"
   ]
  },
  {
   "cell_type": "markdown",
   "metadata": {},
   "source": [
    "### ANOVA"
   ]
  },
  {
   "cell_type": "code",
   "execution_count": 45,
   "metadata": {},
   "outputs": [
    {
     "name": "stdout",
     "output_type": "stream",
     "text": [
      "F_onewayResult(statistic=0.7598397770811564, pvalue=0.46956946188189297)\n"
     ]
    }
   ],
   "source": [
    "sample1 = np.random.randint(15,37,sample_size)\n",
    "sample2 = np.random.randint(15,37,sample_size)\n",
    "sample3 = np.random.randint(15,37,sample_size)\n",
    "anova_test = stats.f_oneway(sample1,sample2,sample3)\n",
    "print(anova_test)"
   ]
  },
  {
   "cell_type": "code",
   "execution_count": null,
   "metadata": {},
   "outputs": [],
   "source": []
  }
 ],
 "metadata": {
  "kernelspec": {
   "display_name": "Python 3",
   "language": "python",
   "name": "python3"
  },
  "language_info": {
   "codemirror_mode": {
    "name": "ipython",
    "version": 3
   },
   "file_extension": ".py",
   "mimetype": "text/x-python",
   "name": "python",
   "nbconvert_exporter": "python",
   "pygments_lexer": "ipython3",
   "version": "3.7.3"
  }
 },
 "nbformat": 4,
 "nbformat_minor": 2
}
